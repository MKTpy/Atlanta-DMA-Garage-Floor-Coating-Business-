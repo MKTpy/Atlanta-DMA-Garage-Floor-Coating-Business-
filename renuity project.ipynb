{
 "cells": [
  {
   "cell_type": "code",
   "execution_count": 7,
   "id": "0f48269d",
   "metadata": {},
   "outputs": [],
   "source": [
    "#!pip install plotly\n",
    "import plotly.express as px\n",
    "import pandas as pd\n",
    "import plotly.graph_objects as go\n",
    "\n",
    "df = pd.read_csv('C:\\\\Users\\\\VARUN MENON\\\\Downloads\\\\proj.csv')\n",
    "df2 = pd.read_csv('C:\\\\Users\\\\VARUN MENON\\\\Downloads\\\\shop.csv')\n",
    "median_hi = df['hi_median'].mean()\n",
    "df_median = df[df['hi_median']>median_hi]\n",
    "\n",
    "\n"
   ]
  },
  {
   "cell_type": "code",
   "execution_count": 8,
   "id": "c6252df5",
   "metadata": {},
   "outputs": [
    {
     "name": "stdout",
     "output_type": "stream",
     "text": [
      "            lat        lng  zip_code              place      hi_mean  \\\n",
      "0     31.784919 -82.285318     31513        Baxley City  38201.40977   \n",
      "1     31.766842 -82.371936     31513        Baxley City  50384.77447   \n",
      "2     31.666797 -82.188242     31563           Surrency  42051.86071   \n",
      "3     31.689265 -82.380962     31513        Baxley City  52570.25696   \n",
      "4     31.327685 -83.024352     31650  Willacoochee City  40439.78196   \n",
      "...         ...        ...       ...                ...          ...   \n",
      "1073  31.937345 -83.549914     31079         Pitts City  51142.50703   \n",
      "1074  31.912850 -83.417042     31079      Rochelle City  42629.55743   \n",
      "1075  33.762913 -82.691091     30673    Washington City  48417.53330   \n",
      "1076  31.501511 -83.912822     31791     Sylvester City  35601.20547   \n",
      "1077  31.382339 -83.890205     31744        Doerun City  55004.47334   \n",
      "\n",
      "      hi_median state  \n",
      "0       30970.0    GA  \n",
      "1       36394.0    GA  \n",
      "2       29923.0    GA  \n",
      "3       40547.0    GA  \n",
      "4       28572.0    GA  \n",
      "...         ...   ...  \n",
      "1073    39644.0    GA  \n",
      "1074    34513.0    GA  \n",
      "1075    40213.0    GA  \n",
      "1076    29103.0    GA  \n",
      "1077    38410.0    GA  \n",
      "\n",
      "[1078 rows x 7 columns]\n"
     ]
    }
   ],
   "source": [
    "print(df)"
   ]
  },
  {
   "cell_type": "code",
   "execution_count": 9,
   "id": "a259386d",
   "metadata": {},
   "outputs": [
    {
     "name": "stdout",
     "output_type": "stream",
     "text": [
      "                                    place        lat        lng    zip\n",
      "0                  1st Choice Remodel ATL  33.851556 -84.359125  30326\n",
      "1            Precision Epoxy Atlanta LLC   33.772885 -84.373753  30308\n",
      "2                   Guardian Garage Floor  34.082939 -84.661583  30102\n",
      "3                     Rejuvenate flooring  33.736921 -84.410559  30310\n",
      "4                     My home improvement  33.871172 -84.379297  30342\n",
      "5                   Atlanta Floor Coating  34.199299 -84.416322  30115\n",
      "6                  Epoxy Flooring Atlanta  33.724539 -84.346464  30316\n",
      "7                    All 4 seasons garage  33.986652 -84.515210  30062\n",
      "8   Jordan’s Overhead Garage Door Service  33.744102 -84.373615  30312\n",
      "9         Garage floor coating of atlanta  34.168506 -84.492935  30115\n",
      "10             Atlanta Concrete Artisians  33.768511 -84.369115  30308\n",
      "11                Sudlow Concrete Atlanta  33.883369 -84.343804  30319\n",
      "12                Atlanta Custom Concrete  34.177643 -84.115220  30041\n",
      "13                  BadAss Garage Floors   33.941945 -84.352005  30328\n",
      "14                          Titanflooring  34.046782 -84.459871  30066\n",
      "15                   Grindkings flooring   34.025691 -84.527255  30066\n",
      "16                 ACC Facility Services   33.765220 -84.388199  30308\n",
      "17                 Georgia floor coating   34.013061 -84.493153  30062\n",
      "18                    1080 Floor Coating   33.391256 -84.594106  30269\n",
      "19                     Garage Expressions  33.854656 -84.021415  30078\n"
     ]
    }
   ],
   "source": [
    "print(df2)"
   ]
  },
  {
   "cell_type": "code",
   "execution_count": 10,
   "id": "90a3e564",
   "metadata": {},
   "outputs": [
    {
     "data": {
      "application/vnd.plotly.v1+json": {
       "config": {
        "plotlyServerURL": "https://plot.ly"
       },
       "data": [
        {
         "lat": [
          33.1359751,
          34.0791395,
          34.0405455,
          34.0237319,
          33.976854,
          33.9840295,
          34.0239752,
          34.0419614,
          33.9555895,
          33.9355089,
          34.3777512,
          34.2962387,
          34.172493,
          34.1347778,
          32.8672458,
          32.9098504,
          32.8833081,
          32.7237679,
          32.8310216,
          31.8986078,
          30.920059,
          30.8432127,
          33.6914725,
          33.7614566,
          33.6190569,
          34.8839644,
          32.0783398,
          32.0448982,
          32.0444057,
          31.9807641,
          31.9698536,
          31.9968293,
          31.9502245,
          32.0475566,
          31.9535273,
          31.9712927,
          31.8872946,
          31.9684697,
          31.9751474,
          32.0196777,
          32.0490864,
          31.9732263,
          32.3568457,
          32.3568457,
          32.3568457,
          32.3568457,
          34.2727212,
          34.2291846,
          34.1697673,
          34.1753941,
          34.116282,
          34.0882297,
          34.0809195,
          34.139426,
          34.1482561,
          34.0976311,
          33.9599703,
          33.9580404,
          33.9003077,
          33.5825232,
          33.5439713,
          33.5099245,
          33.5415715,
          33.5049362,
          33.4890564,
          33.4590275,
          34.0741495,
          34.0159999,
          34.0645204,
          34.066765,
          34.0352308,
          33.9851297,
          33.9629492,
          33.9141042,
          33.9135913,
          33.9283947,
          33.9527954,
          33.9666268,
          34.0673822,
          34.059619,
          34.0295514,
          33.9455066,
          33.9675748,
          34.0715256,
          34.065673,
          34.0249511,
          33.9925696,
          34.0016443,
          33.9662236,
          33.9790594,
          34.0565113,
          33.9472881,
          33.9346665,
          33.9721225,
          33.9974216,
          33.9690305,
          33.9342401,
          33.8929101,
          33.8638208,
          33.8768783,
          33.8795357,
          33.8752006,
          33.8710765,
          33.8558429,
          33.8575174,
          33.8258979,
          33.800621,
          33.8177783,
          33.836,
          33.8735321,
          33.892322,
          33.8400414,
          33.551273,
          33.5224312,
          33.5009148,
          33.4969532,
          33.5147925,
          33.5874675,
          33.5672751,
          33.6498445,
          33.47524,
          33.4383492,
          33.4810792,
          33.4335235,
          33.4009907,
          33.4827499,
          33.4231362,
          33.3930418,
          33.4313531,
          33.2631534,
          33.2834644,
          33.3682293,
          34.4904085,
          33.7998709,
          33.7755463,
          33.76617,
          33.8890409,
          33.9106209,
          33.9012148,
          33.9277554,
          33.9282242,
          33.8667772,
          33.8718337,
          33.8172846,
          33.8087264,
          33.8162886,
          33.828982,
          33.8342028,
          33.8500351,
          33.8452032,
          33.8323879,
          33.8347969,
          33.87553,
          33.8657494,
          33.8873533,
          33.805944,
          33.8355449,
          33.7976568,
          33.7885676,
          33.7761539,
          33.7759309,
          33.760462,
          33.7630332,
          33.75928,
          33.7808851,
          33.7538831,
          33.7542712,
          33.7769524,
          33.6954062,
          33.649373,
          33.6555618,
          33.670326,
          33.669898,
          33.7124825,
          31.6059683,
          31.5190525,
          31.5136116,
          33.7451207,
          33.7165767,
          33.7581971,
          33.6853699,
          33.719647,
          33.7089501,
          33.6922887,
          33.662021,
          33.7227949,
          32.482162,
          32.3504162,
          32.2446214,
          32.338768,
          32.280135,
          32.2825774,
          33.5235064,
          33.494915,
          33.481257,
          33.4245833,
          33.4066222,
          33.4214827,
          33.3594166,
          33.3501936,
          33.4407783,
          33.4602133,
          33.4376751,
          33.3525149,
          33.2968288,
          34.4476852,
          34.3148667,
          34.2673186,
          34.3194646,
          34.2741181,
          34.3068456,
          34.3167835,
          34.2762103,
          34.197228,
          34.222593,
          34.1791564,
          34.2228349,
          34.2460331,
          34.2235262,
          34.1768153,
          34.2253448,
          34.1963554,
          34.2186313,
          34.1570905,
          34.1614475,
          34.1456754,
          34.1001324,
          34.1356285,
          34.0787562,
          34.1363982,
          34.0681289,
          34.1071083,
          34.1010323,
          34.1387102,
          33.7997992,
          33.7883241,
          33.7828223,
          33.776784,
          33.7770784,
          33.776497,
          33.7661963,
          33.758758,
          33.7420805,
          33.7355106,
          33.7322732,
          33.8172088,
          33.814129,
          33.8093237,
          33.8122786,
          33.8212723,
          33.8221523,
          33.8419877,
          33.844113,
          33.8422302,
          33.8613359,
          33.8625134,
          33.9215273,
          33.8967987,
          34.0031967,
          33.9311537,
          33.9220502,
          33.9713092,
          33.9525466,
          33.8812683,
          33.5719474,
          33.5747658,
          33.9934653,
          34.0239783,
          34.0060986,
          34.0392348,
          34.0061073,
          34.0212455,
          34.0093736,
          34.0149252,
          34.0371528,
          34.1059738,
          34.1581712,
          34.0860229,
          34.0320462,
          34.0731233,
          34.0414812,
          34.0667902,
          34.071165,
          34.022421,
          34.0618528,
          31.1331271,
          31.2631302,
          31.2533357,
          31.3059838,
          33.4325807,
          33.4447862,
          34.1343106,
          34.13948,
          34.0994645,
          33.9742922,
          34.0410959,
          34.0639634,
          33.9949236,
          33.9879491,
          33.9642062,
          33.9590848,
          33.9730618,
          33.9897433,
          33.8150005,
          33.7916718,
          33.8718673,
          33.8291862,
          34.0172094,
          34.0086535,
          34.0244088,
          34.0122688,
          33.9978091,
          33.909942,
          33.9244295,
          33.9273171,
          33.9556385,
          33.9741867,
          33.9140839,
          33.9213301,
          33.934821,
          33.9998778,
          34.0904184,
          34.0124649,
          33.9528787,
          34.0932992,
          34.0397076,
          33.8953049,
          33.8561709,
          33.867769,
          33.8730451,
          33.851212,
          33.8763664,
          33.8369398,
          33.9103985,
          33.8416367,
          34.3155904,
          34.4786575,
          34.4377292,
          34.3857181,
          34.3416343,
          34.3529428,
          34.1786618,
          34.2400504,
          34.1482934,
          34.1275022,
          32.7946435,
          32.7089909,
          32.6599674,
          33.51196,
          33.6258274,
          33.5852667,
          33.5847024,
          33.5196188,
          33.4725208,
          33.4705967,
          33.4169647,
          33.4646549,
          33.4990726,
          33.4655887,
          32.66502,
          32.6395421,
          32.6275238,
          32.6275238,
          32.6275238,
          32.56695,
          32.5355825,
          32.5740708,
          32.5213601,
          32.4583811,
          32.3815782,
          32.9330701,
          33.0005565,
          31.6495022,
          30.9298225,
          30.8729605,
          34.6483367,
          33.5568508,
          32.9817732,
          33.7211631,
          33.5979773,
          32.4876145,
          32.5274328,
          32.5848331,
          32.5415573,
          33.6660889,
          33.5552376,
          33.9050376,
          33.9025185,
          33.8500867,
          33.8555721,
          33.9217669,
          33.9833581,
          34.015445,
          34.0323531,
          33.9041833,
          33.952189,
          33.8463255,
          33.7932471,
          33.8062154,
          32.5705626,
          32.6486259,
          34.4222097,
          33.0538895,
          33.3767879,
          33.4743425,
          33.3827663,
          33.3678699,
          33.2853429,
          33.3198698,
          33.6400063,
          33.5772136,
          33.5830604,
          33.3305333,
          33.2995252,
          33.2454783,
          33.2110963,
          31.5485029,
          33.1494891,
          32.9205098,
          34.8133935,
          34.7389128,
          33.790276,
          33.8113353,
          33.7182903,
          34.7380006,
          34.6257624,
          34.8311654
         ],
         "lon": [
          -83.2846642,
          -83.8083173,
          -83.8155058,
          -83.8424034,
          -83.8023847,
          -83.66716,
          -83.6892035,
          -83.7434344,
          -83.7805108,
          -83.679685,
          -84.7259884,
          -84.7427869,
          -84.8702779,
          -84.9733063,
          -83.7104158,
          -83.7229417,
          -83.7479733,
          -83.6984238,
          -83.8204855,
          -81.3563307,
          -81.6150875,
          -81.4561463,
          -84.9611645,
          -84.9563605,
          -84.9446961,
          -85.2139976,
          -81.0903299,
          -81.098953,
          -81.085655,
          -81.1081388,
          -81.1430205,
          -81.0678464,
          -81.2453816,
          -81.2359222,
          -81.1006949,
          -81.0570414,
          -81.0281552,
          -81.0221588,
          -80.9006411,
          -80.9708363,
          -80.9586871,
          -80.9718043,
          -84.9702381,
          -84.9702381,
          -84.9702381,
          -84.9702381,
          -84.330538,
          -84.443886,
          -84.4970188,
          -84.4432187,
          -84.4478928,
          -84.4491443,
          -84.5052385,
          -84.56705,
          -84.6043979,
          -84.602578,
          -83.4260559,
          -83.4977591,
          -83.3174312,
          -84.4470958,
          -84.3291747,
          -84.3267278,
          -84.3039305,
          -84.3790981,
          -84.3662725,
          -84.3496485,
          -84.6281688,
          -84.6559179,
          -84.5781095,
          -84.5980419,
          -84.6367105,
          -84.6067944,
          -84.6413131,
          -84.6082758,
          -84.7072365,
          -84.6793579,
          -84.7220298,
          -84.6858488,
          -84.542633,
          -84.5031369,
          -84.4828039,
          -84.4289384,
          -84.394849,
          -84.5008181,
          -84.4436433,
          -84.4575396,
          -84.4718611,
          -84.4487328,
          -84.4520085,
          -84.3993265,
          -84.4263785,
          -84.4806579,
          -84.466767,
          -84.5120432,
          -84.5386849,
          -84.570859,
          -84.5843198,
          -84.5833508,
          -84.57869,
          -84.5232851,
          -84.5002378,
          -84.5514728,
          -84.469271,
          -84.4944273,
          -84.4790865,
          -84.5874948,
          -84.5436259,
          -84.5233671,
          -84.6062571,
          -84.6134055,
          -84.704128,
          -84.7067038,
          -82.0623175,
          -82.0810602,
          -82.1005663,
          -82.1228268,
          -82.176615,
          -82.1763052,
          -82.1288241,
          -82.2977603,
          -82.1861728,
          -82.2036971,
          -84.7880523,
          -84.7770875,
          -84.727479,
          -84.7169412,
          -84.6796763,
          -84.6839626,
          -84.6599249,
          -84.6093009,
          -84.5429643,
          -84.7355806,
          -84.2266728,
          -84.3432667,
          -84.3400434,
          -84.3300628,
          -84.340883,
          -84.3293153,
          -84.3036716,
          -84.3271655,
          -84.289928,
          -84.329312,
          -84.3152253,
          -84.3411507,
          -84.3224789,
          -84.2960928,
          -84.3173982,
          -84.2977135,
          -84.2944229,
          -84.2757092,
          -84.2632943,
          -84.2220481,
          -84.2410351,
          -84.2154512,
          -84.2373168,
          -84.1476238,
          -84.1587129,
          -84.2935151,
          -84.3431167,
          -84.3212938,
          -84.3055043,
          -84.3039394,
          -84.2895845,
          -84.2784607,
          -84.2300879,
          -84.1315944,
          -84.0659786,
          -84.0942151,
          -84.2133404,
          -84.2278033,
          -84.2633319,
          -84.3149151,
          -84.2855515,
          -84.3404358,
          -84.255607,
          -84.3354894,
          -84.1414798,
          -84.6147083,
          -84.8463379,
          -84.8394665,
          -84.8143005,
          -84.7552832,
          -84.7328633,
          -84.7268481,
          -84.7267716,
          -84.6355367,
          -81.406062,
          -81.4143579,
          -81.2829055,
          -81.2259396,
          -81.233917,
          -81.1721673,
          -84.4866745,
          -84.4653495,
          -84.5935766,
          -84.586475,
          -84.5509279,
          -84.5179091,
          -84.5477325,
          -84.5127442,
          -84.4789154,
          -84.4160043,
          -84.4199188,
          -84.4503408,
          -84.4668415,
          -85.1382297,
          -85.296075,
          -85.0665879,
          -83.9789826,
          -84.1323503,
          -84.1453121,
          -84.0877818,
          -84.0914484,
          -84.2410431,
          -84.2459067,
          -84.2004308,
          -84.2124866,
          -84.1572729,
          -84.1763241,
          -84.1672478,
          -84.1181123,
          -84.0716292,
          -84.044931,
          -84.1024504,
          -84.1321248,
          -84.2285487,
          -84.1896883,
          -84.1651117,
          -84.1756584,
          -84.1398381,
          -84.1465317,
          -84.1158515,
          -84.161121,
          -84.1829103,
          -84.3549254,
          -84.3785105,
          -84.3902405,
          -84.3851556,
          -84.3622634,
          -84.3539007,
          -84.3872629,
          -84.3572779,
          -84.3650954,
          -84.3544774,
          -84.4910511,
          -84.4416537,
          -84.4108285,
          -84.395033,
          -84.3618468,
          -84.3808773,
          -84.3642584,
          -84.3860683,
          -84.3614068,
          -84.4439703,
          -84.3918503,
          -84.3754032,
          -84.3617715,
          -84.3538038,
          -84.3409806,
          -84.3706421,
          -84.420917,
          -84.3665488,
          -84.3796136,
          -84.3956762,
          -84.6116201,
          -84.4766503,
          -84.2860346,
          -84.2943878,
          -84.2714277,
          -84.3897969,
          -84.3682122,
          -84.391009,
          -84.2571651,
          -84.2453083,
          -84.2460359,
          -84.3659221,
          -84.3134107,
          -84.3154506,
          -84.2167247,
          -84.2785188,
          -84.2683928,
          -84.2448337,
          -84.2154208,
          -84.1803637,
          -84.1874079,
          -81.3585938,
          -81.3326103,
          -81.4219774,
          -81.5107035,
          -83.2188938,
          -83.105698,
          -84.0258607,
          -84.06559,
          -84.0967614,
          -84.145426,
          -84.0632031,
          -84.0939075,
          -84.1125779,
          -84.2159329,
          -84.2315195,
          -84.1666567,
          -84.2428219,
          -84.2369884,
          -84.0972463,
          -84.0805841,
          -84.112585,
          -84.1118366,
          -84.0251041,
          -83.9997169,
          -84.0058587,
          -84.0533742,
          -84.0579916,
          -84.0797877,
          -84.0484281,
          -84.0875592,
          -84.0346568,
          -84.0295056,
          -83.9927424,
          -84.0177696,
          -83.9310572,
          -84.031838,
          -83.9509762,
          -83.9096904,
          -83.8707742,
          -83.8739185,
          -83.896215,
          -84.0409369,
          -84.0720875,
          -84.0519014,
          -84.0283413,
          -83.9958167,
          -83.9532139,
          -84.0456687,
          -83.9497112,
          -83.963953,
          -83.6980085,
          -83.8147118,
          -83.8927751,
          -83.960905,
          -83.8787108,
          -83.8320392,
          -83.8132195,
          -83.915153,
          -83.9550234,
          -83.8672704,
          -84.7569323,
          -84.9736456,
          -84.7621414,
          -84.2656435,
          -84.2524231,
          -84.2347609,
          -84.1864464,
          -84.0968093,
          -84.0466038,
          -84.2492729,
          -84.2042316,
          -84.1343492,
          -84.1993992,
          -84.1876766,
          -83.6670379,
          -83.7035294,
          -83.573894,
          -83.573894,
          -83.573894,
          -83.6337771,
          -83.6461033,
          -83.6955868,
          -83.6922974,
          -83.6628559,
          -83.6639371,
          -83.581255,
          -83.5587521,
          -84.1544391,
          -83.223032,
          -83.3114479,
          -83.9463139,
          -82.5244645,
          -83.8062902,
          -83.4880238,
          -83.4742141,
          -84.9498107,
          -84.8744449,
          -84.9883152,
          -84.9748976,
          -83.8755056,
          -83.9594348,
          -83.5483669,
          -83.4290216,
          -83.4915577,
          -83.3946308,
          -83.2151632,
          -84.7818391,
          -84.8219359,
          -84.9002478,
          -84.7433669,
          -84.7571536,
          -84.8391427,
          -84.8140572,
          -84.770728,
          -83.7481556,
          -83.7651567,
          -84.5119523,
          -84.4662034,
          -83.2654834,
          -82.0247428,
          -82.0487484,
          -82.1227627,
          -82.1396247,
          -82.0131908,
          -83.9572493,
          -84.0785178,
          -84.0263031,
          -84.3272835,
          -84.1814931,
          -84.4171532,
          -84.2868123,
          -83.5663293,
          -85.0200214,
          -84.9239304,
          -85.2380453,
          -85.2161388,
          -83.937431,
          -83.8447379,
          -83.7956072,
          -83.7219387,
          -83.6969603,
          -85.0035719
         ],
         "marker": {
          "color": "green",
          "size": 6
         },
         "mode": "markers",
         "text": [
          "Milledgeville City 31061",
          "Braselton 30011",
          "Auburn City 30011",
          "Auburn City 30011",
          "Carl 30680",
          "Russell 30680",
          "Winder City 30680",
          "Winder City 30680",
          "Carl 30680",
          "Bethlehem 30620",
          "Fairmount City 30171",
          "White City 30184",
          "Cartersville City 30120",
          "Euharlee City 30178",
          "Payne City 31204",
          "Payne City 31210",
          "Payne City 31210",
          "Macon-bibb 31216",
          "Macon-bibb 31220",
          "Richmond Hill City 31324",
          "Woodbine City 31569",
          "Kings Bay Base 31558",
          "Villa Rica City 30180",
          "Villa Rica City 30179",
          "Villa Rica City 30116",
          "Fort Oglethorpe City 30736",
          "Thunderbolt 31401",
          "Thunderbolt 31405",
          "Thunderbolt 31405",
          "Vernonburg 31406",
          "Vernonburg 31419",
          "Isle Of Hope 31406",
          "Georgetown 31419",
          "Henderson 31405",
          "Montgomery 31406",
          "Isle Of Hope 31406",
          "Skidaway Island 31406",
          "Isle Of Hope 31406",
          "Tybee Island City 31328",
          "Talahi Island 31410",
          "Talahi Island 31410",
          "Wilmington Island 31410",
          "Cusseta-chattahoochee 31905",
          "Cusseta-chattahoochee 31905",
          "Cusseta-chattahoochee 31905",
          "Cusseta-chattahoochee 31905",
          "Ball Ground City 30115",
          "Canton City 30114",
          "Holly Springs City 30115",
          "Holly Springs City 30115",
          "Mountain Park City 30188",
          "Mountain Park City 30188",
          "Woodstock City 30066",
          "Woodstock City 30189",
          "Woodstock City 30189",
          "Acworth City 30102",
          "Athens-clarke 30606",
          "Bogart 30622",
          "Athens-clarke 30605",
          "Riverdale City 30296",
          "Jonesboro City 30236",
          "Jonesboro City 30236",
          "Stockbridge City 30236",
          "Irondale 30238",
          "Irondale 30238",
          "Bonanza 30228",
          "Acworth City 30101",
          "Kennesaw City 30152",
          "Kennesaw City 30102",
          "Kennesaw City 30102",
          "Kennesaw City 30152",
          "Kennesaw City 30152",
          "Kennesaw City 30064",
          "Fair Oaks 30064",
          "Hiram City 30127",
          "Powder Springs City 30127",
          "Hiram City 30127",
          "Kennesaw City 30152",
          "Woodstock City 30066",
          "Woodstock City 30066",
          "Woodstock City 30066",
          "Sandy Springs City 30067",
          "Sandy Springs City 30068",
          "Woodstock City 30066",
          "Mountain Park City 30062",
          "Mountain Park City 30062",
          "Marietta City 30062",
          "Mountain Park City 30062",
          "Marietta City 30062",
          "Sandy Springs City 30068",
          "Mountain Park City 30062",
          "Marietta City 30068",
          "Marietta City 30067",
          "Marietta City 30062",
          "Marietta City 30062",
          "Marietta City 30064",
          "Fair Oaks 30064",
          "Fair Oaks 30008",
          "Mableton 30082",
          "Smyrna City 30080",
          "Smyrna City 30080",
          "Smyrna City 30082",
          "Vinings 30080",
          "Smyrna City 30080",
          "Vinings 30080",
          "Mableton 30126",
          "Mableton 30126",
          "Mableton 30126",
          "Austell City 30106",
          "Powder Springs City 30008",
          "Powder Springs City 30127",
          "Powder Springs City 30127",
          "Martinez 30907",
          "Martinez 30907",
          "Martinez 30907",
          "Martinez 30907",
          "Evans 30809",
          "Evans 30809",
          "Evans 30809",
          "Appling 30802",
          "Grovetown City 30813",
          "Grovetown City 30813",
          "Chattahoochee Hills City 30265",
          "Newnan City 30263",
          "Newnan City 30265",
          "Palmetto City 30265",
          "Newnan City 30277",
          "Sharpsburg 30265",
          "Tyrone 30277",
          "Haralson 30276",
          "Senoia City 30276",
          "Newnan City 30265",
          "Dawsonville City 30534",
          "Druid Hills 30306",
          "Druid Hills 30306",
          "Druid Hills 30307",
          "Brookhaven City 30319",
          "Dunwoody City 30319",
          "Chamblee City 30341",
          "Dunwoody City 30319",
          "Dunwoody City 30338",
          "Brookhaven City 30319",
          "Chamblee City 30319",
          "North Druid Hills 30324",
          "North Druid Hills 30324",
          "North Decatur 30033",
          "North Druid Hills 30329",
          "North Decatur 30345",
          "Chamblee City 30345",
          "North Decatur 30345",
          "Clarkston City 30033",
          "Clarkston City 30084",
          "Doraville City 30340",
          "Clarkston City 30084",
          "Doraville City 30340",
          "Stone Mountain City 30083",
          "Mountain Park 30087",
          "North Decatur 30033",
          "Druid Hills 30306",
          "Druid Hills 30307",
          "Decatur City 30030",
          "Decatur City 30030",
          "Decatur City 30030",
          "Avondale Estates City 30002",
          "Pine Lake City 30083",
          "Redan 30058",
          "Lithonia City 30058",
          "Lithonia City 30087",
          "Panthersville 30034",
          "Panthersville 30294",
          "Panthersville 30294",
          "Conley 30294",
          "Panthersville 30294",
          "Gresham Park 30315",
          "Albany City 31721",
          "Albany City 31721",
          "Putney 31705",
          "Lithia Springs 30122",
          "Villa Rica City 30187",
          "Villa Rica City 30134",
          "Villa Rica City 30135",
          "Douglasville City 30135",
          "Douglasville City 30135",
          "Douglasville City 30135",
          "Douglasville City 30135",
          "Lithia Springs 30135",
          "Oliver City 31329",
          "Guyton City 31312",
          "Rincon 31312",
          "Rincon 31326",
          "Rincon 31326",
          "Rincon 31326",
          "Fayetteville City 30214",
          "Fayetteville City 30214",
          "Tyrone 30290",
          "Peachtree City City 30269",
          "Peachtree City City 30269",
          "Fayetteville City 30215",
          "Peachtree City City 30269",
          "Senoia City 30215",
          "Fayetteville City 30215",
          "Fayetteville City 30214",
          "Fayetteville City 30215",
          "Woolsey 30215",
          "Brooks 30215",
          "Plainville City 30105",
          "Rome City 30165",
          "Shannon 30161",
          "Oakwood City 30506",
          "Cumming City 30028",
          "Cumming City 30028",
          "Cumming City 30028",
          "Cumming City 30028",
          "Milton City 30040",
          "Cumming City 30040",
          "Cumming City 30040",
          "Cumming City 30040",
          "Cumming City 30040",
          "Cumming City 30040",
          "Cumming City 30040",
          "Cumming City 30040",
          "Cumming City 30041",
          "Cumming City 30041",
          "Cumming City 30041",
          "Cumming City 30041",
          "Milton City 30004",
          "Johns Creek City 30041",
          "Cumming City 30041",
          "Johns Creek City 30041",
          "Cumming City 30041",
          "Johns Creek City 30024",
          "Suwanee City 30024",
          "Johns Creek City 30041",
          "Cumming City 30041",
          "Druid Hills 30306",
          "Druid Hills 30309",
          "Atlanta City 30313",
          "Atlanta City 30313",
          "Druid Hills 30306",
          "Druid Hills 30306",
          "Atlanta City 30313",
          "Druid Hills 30312",
          "Atlanta City 30316",
          "Gresham Park 30316",
          "East Point City 30311",
          "Vinings 30318",
          "Atlanta City 30327",
          "Atlanta City 30305",
          "North Druid Hills 30306",
          "North Druid Hills 30305",
          "North Druid Hills 30305",
          "North Druid Hills 30305",
          "North Druid Hills 30305",
          "Vinings 30327",
          "Brookhaven City 30342",
          "Brookhaven City 30342",
          "Sandy Springs City 30328",
          "Brookhaven City 30342",
          "Roswell City 30350",
          "Sandy Springs City 30328",
          "Sandy Springs City 30328",
          "Sandy Springs City 30350",
          "Sandy Springs City 30328",
          "Brookhaven City 30327",
          "Fairburn City 30213",
          "Riverdale City 30349",
          "Peachtree Corners City 30022",
          "Roswell City 30076",
          "Peachtree Corners City 30022",
          "Roswell City 30075",
          "Roswell City 30350",
          "Roswell City 30075",
          "Peachtree Corners City 30022",
          "Johns Creek City 30022",
          "Johns Creek City 30022",
          "Mountain Park City 30004",
          "Milton City 30004",
          "Alpharetta City 30004",
          "Johns Creek City 30022",
          "Alpharetta City 30004",
          "Alpharetta City 30022",
          "Alpharetta City 30005",
          "Johns Creek City 30005",
          "Johns Creek City 30022",
          "Johns Creek City 30097",
          "St. Simons 31522",
          "St. Simons 31522",
          "Country Club Estates 31525",
          "Darien City 31525",
          "Greensboro City 30642",
          "White Plains City 30642",
          "Buford City 30518",
          "Sugar Hill City 30518",
          "Sugar Hill City 30024",
          "Duluth City 30096",
          "Suwanee City 30024",
          "Suwanee City 30024",
          "Duluth City 30096",
          "Peachtree Corners City 30092",
          "Peachtree Corners City 30092",
          "Berkeley Lake City 30096",
          "Peachtree Corners City 30092",
          "Peachtree Corners City 30092",
          "Mountain Park 30039",
          "Mountain Park 30039",
          "Lilburn City 30047",
          "Mountain Park 30047",
          "Suwanee City 30024",
          "Lawrenceville City 30043",
          "Suwanee City 30024",
          "Suwanee City 30024",
          "Suwanee City 30043",
          "Lilburn City 30044",
          "Lawrenceville City 30044",
          "Lilburn City 30044",
          "Lawrenceville City 30046",
          "Lawrenceville City 30043",
          "Grayson City 30046",
          "Lawrenceville City 30044",
          "Grayson City 30045",
          "Lawrenceville City 30024",
          "Buford City 30519",
          "Dacula City 30019",
          "Dacula City 30019",
          "Braselton 30548",
          "Auburn City 30019",
          "Snellville City 30078",
          "Mountain Park 30047",
          "Snellville City 30078",
          "Snellville City 30078",
          "Snellville City 30078",
          "Grayson City 30017",
          "Snellville City 30039",
          "Grayson City 30017",
          "Snellville City 30052",
          "Gillsville City 30507",
          "Clermont 30506",
          "Clermont 30506",
          "Dawsonville City 30534",
          "Gainesville City 30506",
          "Gainesville City 30501",
          "Braselton 30542",
          "Oakwood City 30566",
          "Rest Haven 30519",
          "Braselton 30542",
          "Shiloh City 31830",
          "Hamilton City 31808",
          "Waverly Hall 31807",
          "Stockbridge City 30281",
          "Conley 30294",
          "Stockbridge City 30281",
          "Stockbridge City 30281",
          "Mcdonough City 30252",
          "Mcdonough City 30252",
          "Lovejoy City 30228",
          "Mcdonough City 30253",
          "Mcdonough City 30253",
          "Stockbridge City 30253",
          "Mcdonough City 30253",
          "Centerville City 31093",
          "Centerville City 31028",
          "Robins Afb 31088",
          "Robins Afb 31088",
          "Robins Afb 31088",
          "Warner Robins City 31005",
          "Warner Robins City 31005",
          "Warner Robins City 31088",
          "Perry City 31047",
          "Perry City 31069",
          "Perry City 31069",
          "Gray City 31211",
          "Gray City 31032",
          "Albany City 31701",
          "Moody Afb 31605",
          "Remerton City 31602",
          "Dahlonega City 30572",
          "Thomson City 30824",
          "Forsyth City 31210",
          "Bostwick City 30621",
          "Madison City 30650",
          "Columbus City 31906",
          "Columbus City 31907",
          "Columbus City 31904",
          "Columbus City 31904",
          "Oxford City 30054",
          "Porterdale City 30016",
          "Bogart 30677",
          "Watkinsville City 30677",
          "North High Shoals 30621",
          "Watkinsville City 30677",
          "Arnoldsville City 30683",
          "Dallas City 30132",
          "Dallas City 30132",
          "Braswell 30132",
          "Hiram City 30141",
          "Hiram City 30157",
          "Dallas City 30157",
          "Villa Rica City 30134",
          "Douglasville City 30134",
          "Byron City 31088",
          "Byron City 31008",
          "Jasper City 30143",
          "Concord City 30295",
          "Crooked Creek 30642",
          "Martinez 30904",
          "Augusta-richmond 30906",
          "Augusta-richmond 30815",
          "Hephzibah City 30815",
          "Augusta-richmond 30906",
          "Conyers City 30013",
          "Conyers City 30281",
          "Conyers City 30094",
          "Sunny Side City 30223",
          "Heron Bay 30223",
          "Brooks 30224",
          "Griffin City 30224",
          "Tifton City 31794",
          "Hogansville City 30240",
          "Pine Mountain 30241",
          "Chickamauga City 30739",
          "Lafayette City 30728",
          "Loganville City 30052",
          "Between 30052",
          "Jersey City 30014",
          "Helen City 30571",
          "Yonah 30571",
          "Tunnel Hill City 30755"
         ],
         "type": "scattergeo"
        },
        {
         "lat": [
          33.8515561,
          33.7728849,
          34.08293907,
          33.73692091,
          33.87117164,
          34.19929859,
          33.72453923,
          33.98665234,
          33.74410172,
          34.16850573,
          33.76851069,
          33.88336911,
          34.17764344,
          33.94194546,
          34.04678184,
          34.0256914,
          33.76522038,
          34.01306078,
          33.3912558,
          33.85465624
         ],
         "lon": [
          -84.35912541,
          -84.37375337,
          -84.66158339,
          -84.41055862,
          -84.37929665,
          -84.41632181,
          -84.34646399,
          -84.5152099,
          -84.37361506,
          -84.49293523,
          -84.36911463,
          -84.34380378,
          -84.1152203,
          -84.35200544,
          -84.45987071,
          -84.52725483,
          -84.38819891,
          -84.49315328,
          -84.59410559,
          -84.02141456
         ],
         "marker": {
          "color": "red",
          "size": 6
         },
         "mode": "markers",
         "text": [
          "1st Choice Remodel ATL 30326",
          "Precision Epoxy Atlanta LLC  30308",
          "Guardian Garage Floor 30102",
          "Rejuvenate flooring 30310",
          "My home improvement 30342",
          "Atlanta Floor Coating 30115",
          "Epoxy Flooring Atlanta 30316",
          "All 4 seasons garage 30062",
          "Jordan’s Overhead Garage Door Service 30312",
          "Garage floor coating of atlanta 30115",
          "Atlanta Concrete Artisians 30308",
          "Sudlow Concrete Atlanta 30319",
          "Atlanta Custom Concrete 30041",
          "BadAss Garage Floors  30328",
          "Titanflooring 30066",
          "Grindkings flooring  30066",
          "ACC Facility Services  30308",
          "Georgia floor coating  30062",
          "1080 Floor Coating  30269",
          "Garage Expressions 30078"
         ],
         "type": "scattergeo"
        }
       ],
       "layout": {
        "geo": {
         "coastlinecolor": "rgb(204, 204, 204)",
         "countrycolor": "rgb(204, 204, 204)",
         "fitbounds": "locations",
         "landcolor": "rgb(66, 66, 66)",
         "lataxis": {
          "range": [
           34,
           33
          ]
         },
         "lonaxis": {
          "range": [
           -84,
           -85
          ]
         },
         "projection": {
          "type": "albers usa"
         },
         "scope": "usa",
         "showland": true
        },
        "showlegend": false,
        "template": {
         "data": {
          "bar": [
           {
            "error_x": {
             "color": "#2a3f5f"
            },
            "error_y": {
             "color": "#2a3f5f"
            },
            "marker": {
             "line": {
              "color": "#E5ECF6",
              "width": 0.5
             },
             "pattern": {
              "fillmode": "overlay",
              "size": 10,
              "solidity": 0.2
             }
            },
            "type": "bar"
           }
          ],
          "barpolar": [
           {
            "marker": {
             "line": {
              "color": "#E5ECF6",
              "width": 0.5
             },
             "pattern": {
              "fillmode": "overlay",
              "size": 10,
              "solidity": 0.2
             }
            },
            "type": "barpolar"
           }
          ],
          "carpet": [
           {
            "aaxis": {
             "endlinecolor": "#2a3f5f",
             "gridcolor": "white",
             "linecolor": "white",
             "minorgridcolor": "white",
             "startlinecolor": "#2a3f5f"
            },
            "baxis": {
             "endlinecolor": "#2a3f5f",
             "gridcolor": "white",
             "linecolor": "white",
             "minorgridcolor": "white",
             "startlinecolor": "#2a3f5f"
            },
            "type": "carpet"
           }
          ],
          "choropleth": [
           {
            "colorbar": {
             "outlinewidth": 0,
             "ticks": ""
            },
            "type": "choropleth"
           }
          ],
          "contour": [
           {
            "colorbar": {
             "outlinewidth": 0,
             "ticks": ""
            },
            "colorscale": [
             [
              0,
              "#0d0887"
             ],
             [
              0.1111111111111111,
              "#46039f"
             ],
             [
              0.2222222222222222,
              "#7201a8"
             ],
             [
              0.3333333333333333,
              "#9c179e"
             ],
             [
              0.4444444444444444,
              "#bd3786"
             ],
             [
              0.5555555555555556,
              "#d8576b"
             ],
             [
              0.6666666666666666,
              "#ed7953"
             ],
             [
              0.7777777777777778,
              "#fb9f3a"
             ],
             [
              0.8888888888888888,
              "#fdca26"
             ],
             [
              1,
              "#f0f921"
             ]
            ],
            "type": "contour"
           }
          ],
          "contourcarpet": [
           {
            "colorbar": {
             "outlinewidth": 0,
             "ticks": ""
            },
            "type": "contourcarpet"
           }
          ],
          "heatmap": [
           {
            "colorbar": {
             "outlinewidth": 0,
             "ticks": ""
            },
            "colorscale": [
             [
              0,
              "#0d0887"
             ],
             [
              0.1111111111111111,
              "#46039f"
             ],
             [
              0.2222222222222222,
              "#7201a8"
             ],
             [
              0.3333333333333333,
              "#9c179e"
             ],
             [
              0.4444444444444444,
              "#bd3786"
             ],
             [
              0.5555555555555556,
              "#d8576b"
             ],
             [
              0.6666666666666666,
              "#ed7953"
             ],
             [
              0.7777777777777778,
              "#fb9f3a"
             ],
             [
              0.8888888888888888,
              "#fdca26"
             ],
             [
              1,
              "#f0f921"
             ]
            ],
            "type": "heatmap"
           }
          ],
          "heatmapgl": [
           {
            "colorbar": {
             "outlinewidth": 0,
             "ticks": ""
            },
            "colorscale": [
             [
              0,
              "#0d0887"
             ],
             [
              0.1111111111111111,
              "#46039f"
             ],
             [
              0.2222222222222222,
              "#7201a8"
             ],
             [
              0.3333333333333333,
              "#9c179e"
             ],
             [
              0.4444444444444444,
              "#bd3786"
             ],
             [
              0.5555555555555556,
              "#d8576b"
             ],
             [
              0.6666666666666666,
              "#ed7953"
             ],
             [
              0.7777777777777778,
              "#fb9f3a"
             ],
             [
              0.8888888888888888,
              "#fdca26"
             ],
             [
              1,
              "#f0f921"
             ]
            ],
            "type": "heatmapgl"
           }
          ],
          "histogram": [
           {
            "marker": {
             "pattern": {
              "fillmode": "overlay",
              "size": 10,
              "solidity": 0.2
             }
            },
            "type": "histogram"
           }
          ],
          "histogram2d": [
           {
            "colorbar": {
             "outlinewidth": 0,
             "ticks": ""
            },
            "colorscale": [
             [
              0,
              "#0d0887"
             ],
             [
              0.1111111111111111,
              "#46039f"
             ],
             [
              0.2222222222222222,
              "#7201a8"
             ],
             [
              0.3333333333333333,
              "#9c179e"
             ],
             [
              0.4444444444444444,
              "#bd3786"
             ],
             [
              0.5555555555555556,
              "#d8576b"
             ],
             [
              0.6666666666666666,
              "#ed7953"
             ],
             [
              0.7777777777777778,
              "#fb9f3a"
             ],
             [
              0.8888888888888888,
              "#fdca26"
             ],
             [
              1,
              "#f0f921"
             ]
            ],
            "type": "histogram2d"
           }
          ],
          "histogram2dcontour": [
           {
            "colorbar": {
             "outlinewidth": 0,
             "ticks": ""
            },
            "colorscale": [
             [
              0,
              "#0d0887"
             ],
             [
              0.1111111111111111,
              "#46039f"
             ],
             [
              0.2222222222222222,
              "#7201a8"
             ],
             [
              0.3333333333333333,
              "#9c179e"
             ],
             [
              0.4444444444444444,
              "#bd3786"
             ],
             [
              0.5555555555555556,
              "#d8576b"
             ],
             [
              0.6666666666666666,
              "#ed7953"
             ],
             [
              0.7777777777777778,
              "#fb9f3a"
             ],
             [
              0.8888888888888888,
              "#fdca26"
             ],
             [
              1,
              "#f0f921"
             ]
            ],
            "type": "histogram2dcontour"
           }
          ],
          "mesh3d": [
           {
            "colorbar": {
             "outlinewidth": 0,
             "ticks": ""
            },
            "type": "mesh3d"
           }
          ],
          "parcoords": [
           {
            "line": {
             "colorbar": {
              "outlinewidth": 0,
              "ticks": ""
             }
            },
            "type": "parcoords"
           }
          ],
          "pie": [
           {
            "automargin": true,
            "type": "pie"
           }
          ],
          "scatter": [
           {
            "fillpattern": {
             "fillmode": "overlay",
             "size": 10,
             "solidity": 0.2
            },
            "type": "scatter"
           }
          ],
          "scatter3d": [
           {
            "line": {
             "colorbar": {
              "outlinewidth": 0,
              "ticks": ""
             }
            },
            "marker": {
             "colorbar": {
              "outlinewidth": 0,
              "ticks": ""
             }
            },
            "type": "scatter3d"
           }
          ],
          "scattercarpet": [
           {
            "marker": {
             "colorbar": {
              "outlinewidth": 0,
              "ticks": ""
             }
            },
            "type": "scattercarpet"
           }
          ],
          "scattergeo": [
           {
            "marker": {
             "colorbar": {
              "outlinewidth": 0,
              "ticks": ""
             }
            },
            "type": "scattergeo"
           }
          ],
          "scattergl": [
           {
            "marker": {
             "colorbar": {
              "outlinewidth": 0,
              "ticks": ""
             }
            },
            "type": "scattergl"
           }
          ],
          "scattermapbox": [
           {
            "marker": {
             "colorbar": {
              "outlinewidth": 0,
              "ticks": ""
             }
            },
            "type": "scattermapbox"
           }
          ],
          "scatterpolar": [
           {
            "marker": {
             "colorbar": {
              "outlinewidth": 0,
              "ticks": ""
             }
            },
            "type": "scatterpolar"
           }
          ],
          "scatterpolargl": [
           {
            "marker": {
             "colorbar": {
              "outlinewidth": 0,
              "ticks": ""
             }
            },
            "type": "scatterpolargl"
           }
          ],
          "scatterternary": [
           {
            "marker": {
             "colorbar": {
              "outlinewidth": 0,
              "ticks": ""
             }
            },
            "type": "scatterternary"
           }
          ],
          "surface": [
           {
            "colorbar": {
             "outlinewidth": 0,
             "ticks": ""
            },
            "colorscale": [
             [
              0,
              "#0d0887"
             ],
             [
              0.1111111111111111,
              "#46039f"
             ],
             [
              0.2222222222222222,
              "#7201a8"
             ],
             [
              0.3333333333333333,
              "#9c179e"
             ],
             [
              0.4444444444444444,
              "#bd3786"
             ],
             [
              0.5555555555555556,
              "#d8576b"
             ],
             [
              0.6666666666666666,
              "#ed7953"
             ],
             [
              0.7777777777777778,
              "#fb9f3a"
             ],
             [
              0.8888888888888888,
              "#fdca26"
             ],
             [
              1,
              "#f0f921"
             ]
            ],
            "type": "surface"
           }
          ],
          "table": [
           {
            "cells": {
             "fill": {
              "color": "#EBF0F8"
             },
             "line": {
              "color": "white"
             }
            },
            "header": {
             "fill": {
              "color": "#C8D4E3"
             },
             "line": {
              "color": "white"
             }
            },
            "type": "table"
           }
          ]
         },
         "layout": {
          "annotationdefaults": {
           "arrowcolor": "#2a3f5f",
           "arrowhead": 0,
           "arrowwidth": 1
          },
          "autotypenumbers": "strict",
          "coloraxis": {
           "colorbar": {
            "outlinewidth": 0,
            "ticks": ""
           }
          },
          "colorscale": {
           "diverging": [
            [
             0,
             "#8e0152"
            ],
            [
             0.1,
             "#c51b7d"
            ],
            [
             0.2,
             "#de77ae"
            ],
            [
             0.3,
             "#f1b6da"
            ],
            [
             0.4,
             "#fde0ef"
            ],
            [
             0.5,
             "#f7f7f7"
            ],
            [
             0.6,
             "#e6f5d0"
            ],
            [
             0.7,
             "#b8e186"
            ],
            [
             0.8,
             "#7fbc41"
            ],
            [
             0.9,
             "#4d9221"
            ],
            [
             1,
             "#276419"
            ]
           ],
           "sequential": [
            [
             0,
             "#0d0887"
            ],
            [
             0.1111111111111111,
             "#46039f"
            ],
            [
             0.2222222222222222,
             "#7201a8"
            ],
            [
             0.3333333333333333,
             "#9c179e"
            ],
            [
             0.4444444444444444,
             "#bd3786"
            ],
            [
             0.5555555555555556,
             "#d8576b"
            ],
            [
             0.6666666666666666,
             "#ed7953"
            ],
            [
             0.7777777777777778,
             "#fb9f3a"
            ],
            [
             0.8888888888888888,
             "#fdca26"
            ],
            [
             1,
             "#f0f921"
            ]
           ],
           "sequentialminus": [
            [
             0,
             "#0d0887"
            ],
            [
             0.1111111111111111,
             "#46039f"
            ],
            [
             0.2222222222222222,
             "#7201a8"
            ],
            [
             0.3333333333333333,
             "#9c179e"
            ],
            [
             0.4444444444444444,
             "#bd3786"
            ],
            [
             0.5555555555555556,
             "#d8576b"
            ],
            [
             0.6666666666666666,
             "#ed7953"
            ],
            [
             0.7777777777777778,
             "#fb9f3a"
            ],
            [
             0.8888888888888888,
             "#fdca26"
            ],
            [
             1,
             "#f0f921"
            ]
           ]
          },
          "colorway": [
           "#636efa",
           "#EF553B",
           "#00cc96",
           "#ab63fa",
           "#FFA15A",
           "#19d3f3",
           "#FF6692",
           "#B6E880",
           "#FF97FF",
           "#FECB52"
          ],
          "font": {
           "color": "#2a3f5f"
          },
          "geo": {
           "bgcolor": "white",
           "lakecolor": "white",
           "landcolor": "#E5ECF6",
           "showlakes": true,
           "showland": true,
           "subunitcolor": "white"
          },
          "hoverlabel": {
           "align": "left"
          },
          "hovermode": "closest",
          "mapbox": {
           "style": "light"
          },
          "paper_bgcolor": "white",
          "plot_bgcolor": "#E5ECF6",
          "polar": {
           "angularaxis": {
            "gridcolor": "white",
            "linecolor": "white",
            "ticks": ""
           },
           "bgcolor": "#E5ECF6",
           "radialaxis": {
            "gridcolor": "white",
            "linecolor": "white",
            "ticks": ""
           }
          },
          "scene": {
           "xaxis": {
            "backgroundcolor": "#E5ECF6",
            "gridcolor": "white",
            "gridwidth": 2,
            "linecolor": "white",
            "showbackground": true,
            "ticks": "",
            "zerolinecolor": "white"
           },
           "yaxis": {
            "backgroundcolor": "#E5ECF6",
            "gridcolor": "white",
            "gridwidth": 2,
            "linecolor": "white",
            "showbackground": true,
            "ticks": "",
            "zerolinecolor": "white"
           },
           "zaxis": {
            "backgroundcolor": "#E5ECF6",
            "gridcolor": "white",
            "gridwidth": 2,
            "linecolor": "white",
            "showbackground": true,
            "ticks": "",
            "zerolinecolor": "white"
           }
          },
          "shapedefaults": {
           "line": {
            "color": "#2a3f5f"
           }
          },
          "ternary": {
           "aaxis": {
            "gridcolor": "white",
            "linecolor": "white",
            "ticks": ""
           },
           "baxis": {
            "gridcolor": "white",
            "linecolor": "white",
            "ticks": ""
           },
           "bgcolor": "#E5ECF6",
           "caxis": {
            "gridcolor": "white",
            "linecolor": "white",
            "ticks": ""
           }
          },
          "title": {
           "x": 0.05
          },
          "xaxis": {
           "automargin": true,
           "gridcolor": "white",
           "linecolor": "white",
           "ticks": "",
           "title": {
            "standoff": 15
           },
           "zerolinecolor": "white",
           "zerolinewidth": 2
          },
          "yaxis": {
           "automargin": true,
           "gridcolor": "white",
           "linecolor": "white",
           "ticks": "",
           "title": {
            "standoff": 15
           },
           "zerolinecolor": "white",
           "zerolinewidth": 2
          }
         }
        },
        "title": {
         "text": "Atlanta DMA garage flooring potential"
        }
       }
      }
     },
     "metadata": {},
     "output_type": "display_data"
    }
   ],
   "source": [
    "\n",
    "\n",
    "\n",
    "\n",
    "\n",
    "# create the first scatter_geo trace\n",
    "trace1 = go.Scattergeo(\n",
    "    lon = df_median['lng'],\n",
    "    lat = df_median['lat'],\n",
    "    text = df_median[['place','zip_code']].apply(lambda x: \"{} {}\".format(*x), axis=1),\n",
    "    mode = 'markers',\n",
    "    marker = dict(\n",
    "        size = 6,\n",
    "        color = 'green'\n",
    "    ),\n",
    ")\n",
    "\n",
    "# create the second scatter_geo trace\n",
    "trace2 = go.Scattergeo(\n",
    "    lon = df2['lng'],\n",
    "    lat = df2['lat'],\n",
    "    text = df2[['place','zip']].apply(lambda x: \"{} {}\".format(*x), axis=1),\n",
    "    mode = 'markers',\n",
    "    marker = dict(\n",
    "        size = 6,\n",
    "        color = 'red'\n",
    "    ),\n",
    ")\n",
    "\n",
    "# create the plot layout\n",
    "layout = go.Layout(\n",
    "    title = 'Atlanta DMA garage flooring potential',\n",
    "    showlegend = False,\n",
    "    geo = dict(\n",
    "        scope = 'usa',\n",
    "        showland = True,\n",
    "        landcolor = 'rgb(66, 66, 66)',\n",
    "        countrycolor = 'rgb(204, 204, 204)',\n",
    "        coastlinecolor = 'rgb(204, 204, 204)',\n",
    "        projection = dict(\n",
    "            type = 'albers usa'\n",
    "        ),\n",
    "        lonaxis = dict(\n",
    "            range = [-84, -85]\n",
    "        ),\n",
    "        lataxis = dict(\n",
    "            range = [34, 33]\n",
    "        ),\n",
    "        fitbounds='locations',\n",
    "    )\n",
    ")\n",
    "\n",
    "# create the plot figure\n",
    "fig = go.Figure(data=[trace1], layout=layout)\n",
    "\n",
    "# add the second trace to the plot\n",
    "fig.add_trace(trace2)\n",
    "\n",
    "# display the plot\n",
    "fig.show()\n"
   ]
  }
 ],
 "metadata": {
  "kernelspec": {
   "display_name": "Python 3",
   "language": "python",
   "name": "python3"
  },
  "language_info": {
   "codemirror_mode": {
    "name": "ipython",
    "version": 3
   },
   "file_extension": ".py",
   "mimetype": "text/x-python",
   "name": "python",
   "nbconvert_exporter": "python",
   "pygments_lexer": "ipython3",
   "version": "3.10.10 (tags/v3.10.10:aad5f6a, Feb  7 2023, 17:20:36) [MSC v.1929 64 bit (AMD64)]"
  },
  "vscode": {
   "interpreter": {
    "hash": "d6227e415f0c665034bd91b90d2b0e04cde24a12b78c9a89346e35b4eca96187"
   }
  }
 },
 "nbformat": 4,
 "nbformat_minor": 5
}
